{
 "cells": [
  {
   "cell_type": "code",
   "execution_count": 1,
   "metadata": {},
   "outputs": [],
   "source": [
    "import pennylane as qml"
   ]
  },
  {
   "cell_type": "code",
   "execution_count": 2,
   "metadata": {},
   "outputs": [],
   "source": [
    "from pennylane import numpy as np"
   ]
  },
  {
   "cell_type": "code",
   "execution_count": 3,
   "metadata": {},
   "outputs": [
    {
     "name": "stdout",
     "output_type": "stream",
     "text": [
      "[0.3, 0.5, 0.7, 0.9, 1.1, 1.3, 1.5, 1.7, 1.9, 2.1, 2.3, 2.5]\n"
     ]
    }
   ],
   "source": [
    "# Array with all of the energies that are calculated\n",
    "vqe_energies = []\n",
    "# These are the distances I want to test\n",
    "distances = [0.3, 0.5, 0.7, 0.9, 1.1, 1.3, 1.5, 1.7, 1.9, 2.1, 2.3, 2.5]\n",
    "print(distances)"
   ]
  },
  {
   "cell_type": "code",
   "execution_count": null,
   "metadata": {
    "scrolled": true
   },
   "outputs": [
    {
     "name": "stdout",
     "output_type": "stream",
     "text": [
      "Iteration = 0, Ground-state energy = -0.24111792565218804 Ha, Convergence parameter = 0.15615302517316965 Ha\n",
      "Iteration = 20, Ground-state energy = -0.5992136560304644 Ha, Convergence parameter = 0.0005808210391480273 Ha\n",
      "Iteration = 40, Ground-state energy = -0.6012432124244605 Ha, Convergence parameter = 8.048708167285312e-06 Ha\n",
      "Iteration = 60, Ground-state energy = -0.6013438991337436 Ha, Convergence parameter = 4.178666692000732e-06 Ha\n",
      "Iteration = 80, Ground-state energy = -0.6014201609654997 Ha, Convergence parameter = 3.507834363647433e-06 Ha\n",
      "Iteration = 100, Ground-state energy = -0.6014842771736011 Ha, Convergence parameter = 2.946502723921718e-06 Ha\n",
      "Iteration = 120, Ground-state energy = -0.6015380537135744 Ha, Convergence parameter = 2.4679938408489477e-06 Ha\n",
      "Iteration = 140, Ground-state energy = -0.6015830403852656 Ha, Convergence parameter = 2.0622481959886585e-06 Ha\n",
      "Iteration = 160, Ground-state energy = -0.6016205916121721 Ha, Convergence parameter = 1.719761317131585e-06 Ha\n",
      "Iteration = 180, Ground-state energy = -0.6016518790876338 Ha, Convergence parameter = 1.4317594602131223e-06 Ha\n",
      "Final convergence parameter = 1.2014086537837088e-06 Ha\n",
      "Final value of the ground-state energy = -0.6016767176235871 Ha\n",
      "Interatomic Distance:  0.3 VQE Result:  -0.6016767176235871\n",
      "\n",
      "Iteration = 0, Ground-state energy = -0.8641244402973096 Ha, Convergence parameter = 0.05665467799813506 Ha\n",
      "Iteration = 20, Ground-state energy = -1.1292444773993662 Ha, Convergence parameter = 0.0012695453696687231 Ha\n",
      "Iteration = 40, Ground-state energy = -1.1352778144016462 Ha, Convergence parameter = 4.160686785303902e-05 Ha\n",
      "Iteration = 60, Ground-state energy = -1.1356686363766726 Ha, Convergence parameter = 1.1925774697107983e-05 Ha\n",
      "Iteration = 80, Ground-state energy = -1.1358551845389975 Ha, Convergence parameter = 7.467708259545347e-06 Ha\n",
      "Iteration = 100, Ground-state energy = -1.1359748598435486 Ha, Convergence parameter = 4.821631298890239e-06 Ha\n",
      "Iteration = 120, Ground-state energy = -1.136052001041367 Ha, Convergence parameter = 3.101789383563869e-06 Ha\n",
      "Iteration = 140, Ground-state energy = -1.136101546849609 Ha, Convergence parameter = 1.9892811153887635e-06 Ha\n",
      "Iteration = 160, Ground-state energy = -1.1361332889770979 Ha, Convergence parameter = 1.2732517706837143e-06 Ha\n",
      "Final convergence parameter = 9.955957602780785e-07 Ha\n",
      "Final value of the ground-state energy = -1.136145567127905 Ha\n",
      "Interatomic Distance:  0.5 VQE Result:  -1.136145567127905\n",
      "\n",
      "Iteration = 0, Ground-state energy = -0.8641244402973096 Ha, Convergence parameter = 0.05665467799813506 Ha\n",
      "Iteration = 20, Ground-state energy = -1.1292444773993662 Ha, Convergence parameter = 0.0012695453696687231 Ha\n",
      "Iteration = 40, Ground-state energy = -1.1352778144016462 Ha, Convergence parameter = 4.160686785303902e-05 Ha\n",
      "Iteration = 60, Ground-state energy = -1.1356686363766726 Ha, Convergence parameter = 1.1925774697107983e-05 Ha\n",
      "Iteration = 80, Ground-state energy = -1.1358551845389975 Ha, Convergence parameter = 7.467708259545347e-06 Ha\n",
      "Iteration = 100, Ground-state energy = -1.1359748598435486 Ha, Convergence parameter = 4.821631298890239e-06 Ha\n",
      "Iteration = 120, Ground-state energy = -1.136052001041367 Ha, Convergence parameter = 3.101789383563869e-06 Ha\n",
      "Iteration = 140, Ground-state energy = -1.136101546849609 Ha, Convergence parameter = 1.9892811153887635e-06 Ha\n",
      "Iteration = 160, Ground-state energy = -1.1361332889770979 Ha, Convergence parameter = 1.2732517706837143e-06 Ha\n",
      "Final convergence parameter = 9.955957602780785e-07 Ha\n",
      "Final value of the ground-state energy = -1.136145567127905 Ha\n",
      "Interatomic Distance:  0.7 VQE Result:  -1.136145567127905\n",
      "\n",
      "Iteration = 0, Ground-state energy = -0.8850726092973047 Ha, Convergence parameter = 0.03779438689741421 Ha\n",
      "Iteration = 20, Ground-state energy = -1.1107261180107686 Ha, Convergence parameter = 0.0016293358149399584 Ha\n",
      "Iteration = 40, Ground-state energy = -1.1195006649484711 Ha, Convergence parameter = 7.448298743084614e-05 Ha\n",
      "Iteration = 60, Ground-state energy = -1.1201335534932446 Ha, Convergence parameter = 1.5629979138287453e-05 Ha\n",
      "Iteration = 80, Ground-state energy = -1.1203455020780708 Ha, Convergence parameter = 7.379458147882545e-06 Ha\n"
     ]
    }
   ],
   "source": [
    "for dist in distances:\n",
    "    # Defining all needed information for the generate_hamiltonian function\n",
    "    name = 'h2-{:}'.format(dist)\n",
    "    geometry = 'Hydrogen/h2-{:}.xyz'.format(dist)\n",
    "    charge = 0\n",
    "    multiplicity = 1\n",
    "    basis_set = 'sto-3g'\n",
    "    \n",
    "    ###\n",
    "    \n",
    "    # Calling the generate_hamiltonian function from the pennylane module. Returns two values, h the hamiltonian and \n",
    "    # num_qubits the number of needed qubits\n",
    "    h, num_qubits = qml.qchem.generate_hamiltonian(name, geometry, charge, multiplicity, basis_set, n_active_electrons = 2, n_active_orbitals = 2, mapping = 'jordan_wigner')\n",
    "    \n",
    "    ###\n",
    "    \n",
    "    # Defines the pqrticular quantum device to simulate qubit states. 'default.qubit' is a simple state simulator.\n",
    "    dev = qml.device('default.qubit', wires = num_qubits)\n",
    "\n",
    "    # Defines the circuit gates to allow optimization to be effective. Needs to be complex to prepare the ground state,\n",
    "    # and simple enough to optimize.\n",
    "    def circuit(params, wires):\n",
    "        # Defines the initial basis of the qubits\n",
    "        qml.BasisState(np.array([1, 1, 0, 0]), wires = wires)\n",
    "        # Applies rotational gates on all wires with parameter i\n",
    "        for i in wires:\n",
    "            qml.Rot(*params[i], wires = i)\n",
    "        # Applies CNOT entanglement gates\n",
    "        qml.CNOT(wires = [2, 3])\n",
    "        qml.CNOT(wires = [2, 0])\n",
    "        qml.CNOT(wires = [3, 1])\n",
    "    \n",
    "    ###\n",
    "    \n",
    "    # Calling the VQECos function from the pennylane module. Returns the cost function of the optimization based on the\n",
    "    # quantum circuit, the hamiltonian, and the simulator\n",
    "    cost_function = qml.VQECost(circuit, h, dev)\n",
    "\n",
    "    # This is the classical optimization work. Using gradiant descent with a step size of 0.4. Parameters are based on a\n",
    "    # normal distribution about the center (0), with a spread (pi), and with an output of (num_quits * 3). \n",
    "    opt = qml.GradientDescentOptimizer(stepsize = 0.3)\n",
    "    np.random.seed(0)\n",
    "    params = np.random.normal(0, np.pi, (num_qubits, 3))\n",
    "    \n",
    "    ###\n",
    "    \n",
    "    max_iterations = 200\n",
    "    # Convergence tolerance tells us how close we want the optimization to be\n",
    "    conv_tol = 1e-06\n",
    "\n",
    "    # Checks the cost of the random parameters\n",
    "    current_energy = cost_function(params)\n",
    "    for n in range(max_iterations):\n",
    "        # Create new parameters based on the gradient descent optimizer using the cost_function by using the defined\n",
    "        # stepsize on the original parameters\n",
    "        params = opt.step(cost_function, params)\n",
    "        # Caluculate the cost function of new parameters\n",
    "        energy = cost_function(params)\n",
    "        # Caluculate the convergence\n",
    "        conv = np.abs(energy - current_energy)\n",
    "\n",
    "        if n % 20 == 0:\n",
    "            print('Iteration = {0}, Ground-state energy = {1} Ha, Convergence parameter = {2} Ha'.format(n, energy, conv))\n",
    "\n",
    "        # If convergence is less than equal to convergence total stop\n",
    "        if conv <= conv_tol:\n",
    "            break\n",
    "        \n",
    "        current_energy = energy\n",
    "\n",
    "    print('Final convergence parameter = {0} Ha'.format(conv))\n",
    "    print('Final value of the ground-state energy = {0} Ha'.format(energy))\n",
    "    print('Interatomic Distance: ', np.round(dist, 2), 'VQE Result: ', energy)\n",
    "    print()\n",
    "    \n",
    "    # Adding all the energies to the string\n",
    "    vqe_energies.append(energy)\n",
    "    \n",
    "    \n",
    "    "
   ]
  },
  {
   "cell_type": "code",
   "execution_count": null,
   "metadata": {},
   "outputs": [],
   "source": [
    "print(vqe_energies)"
   ]
  },
  {
   "cell_type": "code",
   "execution_count": null,
   "metadata": {},
   "outputs": [],
   "source": [
    "import matplotlib.pyplot as plt\n",
    "from scipy.interpolate import make_interp_spline, BSpline\n",
    "%matplotlib inline\n",
    "%config InlineBackend.figure_format = 'svg'"
   ]
  },
  {
   "cell_type": "code",
   "execution_count": null,
   "metadata": {},
   "outputs": [],
   "source": [
    "# Draws a plot of the ground energy of the H2 molecule based on the atomic distace\n",
    "xnew = np.linspace(distances[0], distances[len(distances) - 1], 300) \n",
    "\n",
    "spl = make_interp_spline(distances, vqe_energies, k=5)\n",
    "vqe_energy_smooth = spl(xnew)\n",
    "\n",
    "plt.plot(xnew, vqe_energy_smooth, label = 'VQE Energy')\n",
    "plt.xlabel('Atomic distace (Angstrom)')\n",
    "plt.ylabel('Energy (Hartee Energy)')\n",
    "plt.title('Ground Energy of H2')\n",
    "plt.legend()\n",
    "plt.show()"
   ]
  },
  {
   "cell_type": "code",
   "execution_count": null,
   "metadata": {},
   "outputs": [],
   "source": []
  }
 ],
 "metadata": {
  "kernelspec": {
   "display_name": "Python 3",
   "language": "python",
   "name": "python3"
  },
  "language_info": {
   "codemirror_mode": {
    "name": "ipython",
    "version": 3
   },
   "file_extension": ".py",
   "mimetype": "text/x-python",
   "name": "python",
   "nbconvert_exporter": "python",
   "pygments_lexer": "ipython3",
   "version": "3.7.4"
  }
 },
 "nbformat": 4,
 "nbformat_minor": 2
}
